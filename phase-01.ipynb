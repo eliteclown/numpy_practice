{
 "cells": [
  {
   "cell_type": "code",
   "execution_count": 3,
   "metadata": {},
   "outputs": [],
   "source": [
    "import numpy as np\n"
   ]
  },
  {
   "cell_type": "code",
   "execution_count": 4,
   "metadata": {},
   "outputs": [
    {
     "name": "stdout",
     "output_type": "stream",
     "text": [
      "[1 2 3 4 5]\n",
      "[[1 2 3]\n",
      " [1 2 3]]\n"
     ]
    }
   ],
   "source": [
    "arr1 = np.array([1,2,3,4,5])\n",
    "arr2 = np.array([[1,2,3],[1,2,3]])\n",
    "print(arr1)\n",
    "print(arr2)"
   ]
  },
  {
   "cell_type": "markdown",
   "metadata": {},
   "source": [
    "## Array vs List"
   ]
  },
  {
   "cell_type": "code",
   "execution_count": 5,
   "metadata": {},
   "outputs": [
    {
     "name": "stdout",
     "output_type": "stream",
     "text": [
      "python List multiplication:  [1, 2, 3, 1, 2, 3]\n",
      "numpy array multiplication:  [2 4 6]\n",
      "\n",
      " List operation time:  0.16418790817260742\n",
      "\n",
      " Array operation time:  0.0\n"
     ]
    }
   ],
   "source": [
    "py_list = [1,2,3]\n",
    "print(\"python List multiplication: \",py_list*2)\n",
    "\n",
    "np_array = np.array([1,2,3])\n",
    "print(\"numpy array multiplication: \",np_array*2)\n",
    "\n",
    "\n",
    "import time \n",
    "start = time.time()\n",
    "\n",
    "py_list = [i*2 for i in range(1000000)]\n",
    "print(\"\\n List operation time: \",time.time()-start)\n",
    "\n",
    "start = time.time()\n",
    "np_array = np.arange(1000000)*2\n",
    "print(\"\\n Array operation time: \",time.time()-start)"
   ]
  },
  {
   "cell_type": "markdown",
   "metadata": {},
   "source": [
    "## Generating Array from scratch"
   ]
  },
  {
   "cell_type": "code",
   "execution_count": 6,
   "metadata": {},
   "outputs": [
    {
     "name": "stdout",
     "output_type": "stream",
     "text": [
      "[[0. 0. 0.]\n",
      " [0. 0. 0.]\n",
      " [0. 0. 0.]]\n",
      "[[1. 1. 1.]\n",
      " [1. 1. 1.]\n",
      " [1. 1. 1.]]\n",
      "[[7 7 7]\n",
      " [7 7 7]\n",
      " [7 7 7]]\n"
     ]
    }
   ],
   "source": [
    "zeros = np.zeros((3,3))\n",
    "ones = np.ones((3,3))\n",
    "fulls = np.full((3,3),7)\n",
    "\n",
    "random_array = np.random.random()\n",
    "\n",
    "seq = np.arange(0,11,2)\n",
    "\n",
    "\n",
    "print(zeros)\n",
    "print(ones)\n",
    "print(fulls)"
   ]
  },
  {
   "cell_type": "markdown",
   "metadata": {},
   "source": [
    "## Array vs Matrix vs Tensor"
   ]
  },
  {
   "cell_type": "code",
   "execution_count": 7,
   "metadata": {},
   "outputs": [
    {
     "name": "stdout",
     "output_type": "stream",
     "text": [
      "\n",
      " vector:  [1 2 3]\n",
      "\n",
      " matrix:  [[1 2 3]\n",
      " [4 5 6]]\n",
      "\n",
      " tensor:  [[[1 2]\n",
      "  [3 4]]\n",
      "\n",
      " [[5 6]\n",
      "  [7 8]]]\n"
     ]
    }
   ],
   "source": [
    "np_vector = np.array([1,2,3])\n",
    "np_matrix = np.array([[1,2,3],[4,5,6]])\n",
    "np_tensor = np.array([[[1,2],[3,4]],[[5,6],[7,8]]])\n",
    "\n",
    "print(\"\\n vector: \",np_vector)\n",
    "print(\"\\n matrix: \",np_matrix)\n",
    "print(\"\\n tensor: \",np_tensor)"
   ]
  },
  {
   "cell_type": "markdown",
   "metadata": {},
   "source": [
    "## Array Manipulation"
   ]
  },
  {
   "cell_type": "code",
   "execution_count": 8,
   "metadata": {},
   "outputs": [
    {
     "name": "stdout",
     "output_type": "stream",
     "text": [
      "Shape:  (2, 3)\n",
      "\n",
      " dimensions:  2\n",
      "\n",
      " datatype:  int64\n",
      "\n",
      " size:  6\n"
     ]
    }
   ],
   "source": [
    "np_array = np.array([[1,2,3],[4,5,6]])\n",
    "print(\"Shape: \",np_array.shape)\n",
    "print(\"\\n dimensions: \",np_array.ndim)\n",
    "print(\"\\n datatype: \",np_array.dtype)\n",
    "print(\"\\n size: \",np_array.size)"
   ]
  },
  {
   "cell_type": "markdown",
   "metadata": {},
   "source": [
    "## Reshapeing"
   ]
  },
  {
   "cell_type": "code",
   "execution_count": 9,
   "metadata": {},
   "outputs": [
    {
     "name": "stdout",
     "output_type": "stream",
     "text": [
      "original array:  [ 0  1  2  3  4  5  6  7  8  9 10 11]\n",
      "reshaped_array:  [[ 0  1  2  3]\n",
      " [ 4  5  6  7]\n",
      " [ 8  9 10 11]]\n",
      "raveled array:  [ 0  1  2  3  4  5  6  7  8  9 10 11]\n",
      "flattened array:  [ 0  1  2  3  4  5  6  7  8  9 10 11]\n",
      "transpose:  [[ 0  4  8]\n",
      " [ 1  5  9]\n",
      " [ 2  6 10]\n",
      " [ 3  7 11]]\n",
      "0.258707757707057\n",
      "[ 0  2  4  6  8 10]\n"
     ]
    }
   ],
   "source": [
    "original_array = np.arange(12)\n",
    "print(\"original array: \",original_array)\n",
    "\n",
    "reshaped = original_array.reshape((3,4))\n",
    "print(\"reshaped_array: \",reshaped)\n",
    "\n",
    "# returns view and not a copy\n",
    "raveled= reshaped.ravel()\n",
    "print(\"raveled array: \",raveled)\n",
    "\n",
    "flatten = reshaped.flatten()\n",
    "print(\"flattened array: \",flatten)\n",
    "\n",
    "transpose = reshaped.T\n",
    "print(\"transpose: \",transpose)\n",
    "print(random_array)\n",
    "print(seq)"
   ]
  }
 ],
 "metadata": {
  "kernelspec": {
   "display_name": "venv",
   "language": "python",
   "name": "python3"
  },
  "language_info": {
   "codemirror_mode": {
    "name": "ipython",
    "version": 3
   },
   "file_extension": ".py",
   "mimetype": "text/x-python",
   "name": "python",
   "nbconvert_exporter": "python",
   "pygments_lexer": "ipython3",
   "version": "3.12.4"
  }
 },
 "nbformat": 4,
 "nbformat_minor": 2
}
